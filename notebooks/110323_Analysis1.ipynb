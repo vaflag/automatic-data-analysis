{
 "cells": [
  {
   "cell_type": "code",
   "execution_count": 1,
   "id": "dcf64b47",
   "metadata": {
    "ExecuteTime": {
     "end_time": "2023-05-04T17:28:48.062698Z",
     "start_time": "2023-05-04T17:28:44.104866Z"
    }
   },
   "outputs": [
    {
     "ename": "ModuleNotFoundError",
     "evalue": "No module named 'faker'",
     "output_type": "error",
     "traceback": [
      "\u001b[0;31m---------------------------------------------------------------------------\u001b[0m",
      "\u001b[0;31mModuleNotFoundError\u001b[0m                       Traceback (most recent call last)",
      "Cell \u001b[0;32mIn[1], line 14\u001b[0m\n\u001b[1;32m     12\u001b[0m \u001b[38;5;28;01mfrom\u001b[39;00m \u001b[38;5;21;01msklearn\u001b[39;00m\u001b[38;5;21;01m.\u001b[39;00m\u001b[38;5;21;01mmetrics\u001b[39;00m \u001b[38;5;28;01mimport\u001b[39;00m mean_squared_error\n\u001b[1;32m     13\u001b[0m \u001b[38;5;28;01mfrom\u001b[39;00m \u001b[38;5;21;01mtqdm\u001b[39;00m \u001b[38;5;28;01mimport\u001b[39;00m tqdm\n\u001b[0;32m---> 14\u001b[0m \u001b[38;5;28;01mfrom\u001b[39;00m \u001b[38;5;21;01mfaker\u001b[39;00m \u001b[38;5;28;01mimport\u001b[39;00m Faker\n\u001b[1;32m     15\u001b[0m \u001b[38;5;28;01mimport\u001b[39;00m \u001b[38;5;21;01mjson\u001b[39;00m\n\u001b[1;32m     16\u001b[0m \u001b[38;5;28;01mimport\u001b[39;00m \u001b[38;5;21;01mre\u001b[39;00m\n",
      "\u001b[0;31mModuleNotFoundError\u001b[0m: No module named 'faker'"
     ]
    }
   ],
   "source": [
    "import numpy as np # linear algebra\n",
    "import pandas as pd # data processing, CSV file I/O (e.g. pd.read_csv)\n",
    "import matplotlib.pyplot as plt\n",
    "import pickle\n",
    "# Input data files are available in the read-only \"../input/\" directory\n",
    "# For example, running this (by clicking run or pressing Shift+Enter) will list all files under the input directory\n",
    "import warnings\n",
    "warnings.filterwarnings('ignore')\n",
    "import datetime\n",
    "import gc\n",
    "gc.collect()\n",
    "from sklearn.metrics import mean_squared_error\n",
    "from tqdm import tqdm\n",
    "from faker import Faker\n",
    "import json\n",
    "import re\n",
    "import os\n",
    "from dotenv import load_dotenv\n",
    "import openai\n",
    "\n",
    "pd.options.display.max_columns=299"
   ]
  },
  {
   "cell_type": "markdown",
   "id": "99aca674",
   "metadata": {},
   "source": [
    "#  Draft Notebook"
   ]
  },
  {
   "cell_type": "code",
   "execution_count": 3,
   "id": "7c16098a",
   "metadata": {
    "ExecuteTime": {
     "end_time": "2023-05-04T17:32:09.681744Z",
     "start_time": "2023-05-04T17:32:09.657542Z"
    }
   },
   "outputs": [
    {
     "ename": "NameError",
     "evalue": "name 'openai' is not defined",
     "output_type": "error",
     "traceback": [
      "\u001b[0;31m---------------------------------------------------------------------------\u001b[0m",
      "\u001b[0;31mNameError\u001b[0m                                 Traceback (most recent call last)",
      "Input \u001b[0;32mIn [3]\u001b[0m, in \u001b[0;36m<cell line: 3>\u001b[0;34m()\u001b[0m\n\u001b[1;32m      1\u001b[0m load_dotenv()\n\u001b[1;32m      2\u001b[0m OPENAI_KEY \u001b[38;5;241m=\u001b[39m os\u001b[38;5;241m.\u001b[39menviron[\u001b[38;5;124m\"\u001b[39m\u001b[38;5;124mOPENAI_KEY\u001b[39m\u001b[38;5;124m\"\u001b[39m]\n\u001b[0;32m----> 3\u001b[0m \u001b[43mopenai\u001b[49m\u001b[38;5;241m.\u001b[39mapi_key \u001b[38;5;241m=\u001b[39m OPENAI_KEY\n",
      "\u001b[0;31mNameError\u001b[0m: name 'openai' is not defined"
     ]
    }
   ],
   "source": [
    "load_dotenv()\n",
    "OPENAI_KEY = os.environ[\"OPENAI_KEY\"]\n",
    "openai.api_key = OPENAI_KEY"
   ]
  },
  {
   "cell_type": "code",
   "execution_count": 39,
   "id": "07a6a96d",
   "metadata": {},
   "outputs": [],
   "source": [
    "main_dir='data/m5-forecasting-accuracy/'\n",
    "\n",
    "sales=pd.read_csv(main_dir+'sales_train_evaluation.csv')\n",
    "\n",
    "sales.iloc[:6].to_csv(\"data_train_walmart.csv\", index=False)"
   ]
  },
  {
   "cell_type": "code",
   "execution_count": 27,
   "id": "4e56f16b",
   "metadata": {},
   "outputs": [],
   "source": [
    "df_extract = sales.iloc[:4, :6]\n",
    "\n",
    "d_json = dict()\n",
    "for col in df_extract:\n",
    "    d_json[col] = df_extract[col].values.tolist()\n",
    "\n",
    "with open('data/data_extract.json', 'w') as f:\n",
    "    json.dump(d_json, f)"
   ]
  },
  {
   "cell_type": "code",
   "execution_count": 7,
   "id": "c92ffff1",
   "metadata": {},
   "outputs": [],
   "source": [
    "l_cols = sales.columns"
   ]
  },
  {
   "cell_type": "code",
   "execution_count": 15,
   "id": "b73e0a11",
   "metadata": {},
   "outputs": [
    {
     "data": {
      "text/plain": [
       "Index(['id', 'item_id', 'dept_id', 'cat_id', 'store_id', 'state_id', 'd_1',\n",
       "       'd_2', 'd_3', 'd_4',\n",
       "       ...\n",
       "       'd_1932', 'd_1933', 'd_1934', 'd_1935', 'd_1936', 'd_1937', 'd_1938',\n",
       "       'd_1939', 'd_1940', 'd_1941'],\n",
       "      dtype='object', length=1947)"
      ]
     },
     "execution_count": 15,
     "metadata": {},
     "output_type": "execute_result"
    }
   ],
   "source": [
    "l_cols"
   ]
  },
  {
   "cell_type": "markdown",
   "id": "659213dc",
   "metadata": {},
   "source": [
    "## ChatGPT"
   ]
  },
  {
   "cell_type": "code",
   "execution_count": 14,
   "id": "8de60928",
   "metadata": {},
   "outputs": [],
   "source": [
    "MODEL = \"gpt-3.5-turbo\""
   ]
  },
  {
   "cell_type": "code",
   "execution_count": 32,
   "id": "0e55c161",
   "metadata": {},
   "outputs": [
    {
     "name": "stdout",
     "output_type": "stream",
     "text": [
      "Based on the columns you listed, there are several potential analyses you could do. Here are a few suggestions:\n",
      "\n",
      "1. Time series analysis: With the 'sales_day' column you can perform a time series analysis to understand the trend in sales over time. You could plot the sales by day, week, or month and look for trends, seasonality, or other patterns.\n",
      "\n",
      "2. Scatter plot: You could create a scatter plot to see if there is any relationship between 'sales_day' and 'id'.\n",
      "\n",
      "3. Bar chart: A bar chart could be created to show the total sales for each 'store_id' or 'item_id', you could also group these by 'cat_id' or 'dept_id' to compare sales across different product categories or departments.\n",
      "\n",
      "4. Box plot: A box plot could be used to show the distribution of sales across different 'store_id' or 'item_id' categories.\n",
      "\n",
      "5. Heatmap: You could create a heatmap to visualize the correlation between different variables in your dataset, for example the correlation between the 'sales_day' and 'id' columns.\n",
      "\n",
      "These are just a few examples of the types of analysis you could perform with the columns you listed. The best analysis to run depends on what questions you are trying to answer and what insights you are looking to gain from your data.\n"
     ]
    }
   ],
   "source": [
    "response = openai.ChatCompletion.create(\n",
    "    model=MODEL,\n",
    "    messages=[\n",
    "        {\"role\": \"system\", \"content\": \"You are a smart data analyst assistant.\"},\n",
    "        {\"role\": \"user\", \"content\": \"Help me find the right graphs to create\"},\n",
    "        {\"role\": \"assistant\", \"content\": \"Sure, I'd be happy to!\"},\n",
    "        {\"role\": \"user\", \"content\": \"I have these columns :  'id' : numerical, 'item_id' : categorical,\\\n",
    "         'dept_id':categorical, 'cat_id':categorical, 'store_id':categorical, \\\n",
    "         'state_id':categorical, 'sales_day':numerical what are the best analysis to run \"},\n",
    "        #{\"role\": \"assistant\", \"content\": \"Things working well together will increase revenue.\"},\n",
    "        #{\"role\": \"user\", \"content\": \"Let's circle back when we have more bandwidth to touch base on opportunities for increased leverage.\"},\n",
    "        #{\"role\": \"assistant\", \"content\": \"Let's talk later when we're less busy about how to do better.\"},\n",
    "        #{\"role\": \"user\", \"content\": \"This late pivot means we don't have time to boil the ocean for the client deliverable.\"},\n",
    "    ],\n",
    "    temperature=0.9,\n",
    ")\n",
    "\n",
    "print(response[\"choices\"][0][\"message\"][\"content\"])"
   ]
  },
  {
   "cell_type": "code",
   "execution_count": 33,
   "id": "2dbe0746",
   "metadata": {},
   "outputs": [],
   "source": [
    "response = openai.ChatCompletion.create(\n",
    "    model=MODEL,\n",
    "    messages=[\n",
    "        {\"role\": \"system\", \"content\": \"You are a smart data analyst assistant.\"},\n",
    "        {\"role\": \"user\", \"content\": \"Help me find the right graphs to create\"},\n",
    "        {\"role\": \"assistant\", \"content\": \"Sure, I'd be happy to!\"},\n",
    "        {\"role\": \"user\", \"content\": \"I have these columns :  'id', 'item_id',\\\n",
    "         'dept_id', 'cat_id', 'store_id', 'state_id' what are the best analysis to run and \\\n",
    "         and can you create them in streamlit\"},\n",
    "        #{\"role\": \"assistant\", \"content\": \"Things working well together will increase revenue.\"},\n",
    "        #{\"role\": \"user\", \"content\": \"Let's circle back when we have more bandwidth to touch base on opportunities for increased leverage.\"},\n",
    "        #{\"role\": \"assistant\", \"content\": \"Let's talk later when we're less busy about how to do better.\"},\n",
    "        #{\"role\": \"user\", \"content\": \"This late pivot means we don't have time to boil the ocean for the client deliverable.\"},\n",
    "    ],\n",
    "    temperature=0,\n",
    ")"
   ]
  },
  {
   "cell_type": "code",
   "execution_count": 34,
   "id": "9b1b7965",
   "metadata": {},
   "outputs": [
    {
     "data": {
      "text/plain": [
       "<OpenAIObject chat.completion id=chatcmpl-6swrWepSojn2B4lp8zZCHNXKiip5v at 0x112fe5770> JSON: {\n",
       "  \"choices\": [\n",
       "    {\n",
       "      \"finish_reason\": \"stop\",\n",
       "      \"index\": 0,\n",
       "      \"message\": {\n",
       "        \"content\": \"It depends on what kind of data you have in each column and what kind of questions you want to answer. Here are some potential analyses you could run:\\n\\n1. Count of items by department: This would show you how many items are in each department. You could create a bar chart or a pie chart to display this information.\\n\\n2. Sales by category: This would show you how much revenue each category is generating. You could create a bar chart or a line chart to display this information.\\n\\n3. Sales by store: This would show you how much revenue each store is generating. You could create a bar chart or a line chart to display this information.\\n\\n4. Sales by state: This would show you how much revenue each state is generating. You could create a bar chart or a line chart to display this information.\\n\\n5. Sales by item: This would show you how much revenue each item is generating. You could create a bar chart or a line chart to display this information.\\n\\nTo create these charts in Streamlit, you can use Python libraries such as Matplotlib or Plotly. Here's an example of how to create a bar chart using Matplotlib:\\n\\n```python\\nimport matplotlib.pyplot as plt\\nimport pandas as pd\\n\\n# Load data\\ndata = pd.read_csv('data.csv')\\n\\n# Count of items by department\\ndept_counts = data.groupby('dept_id')['item_id'].count()\\n\\n# Create bar chart\\nplt.bar(dept_counts.index, dept_counts.values)\\nplt.title('Count of Items by Department')\\nplt.xlabel('Department')\\nplt.ylabel('Count')\\nplt.show()\\n```\\n\\nYou can modify this code to create the other charts as well.\",\n",
       "        \"role\": \"assistant\"\n",
       "      }\n",
       "    }\n",
       "  ],\n",
       "  \"created\": 1678553998,\n",
       "  \"id\": \"chatcmpl-6swrWepSojn2B4lp8zZCHNXKiip5v\",\n",
       "  \"model\": \"gpt-3.5-turbo-0301\",\n",
       "  \"object\": \"chat.completion\",\n",
       "  \"usage\": {\n",
       "    \"completion_tokens\": 337,\n",
       "    \"prompt_tokens\": 93,\n",
       "    \"total_tokens\": 430\n",
       "  }\n",
       "}"
      ]
     },
     "execution_count": 34,
     "metadata": {},
     "output_type": "execute_result"
    }
   ],
   "source": [
    "response"
   ]
  },
  {
   "cell_type": "code",
   "execution_count": null,
   "id": "b8d428bd",
   "metadata": {},
   "outputs": [],
   "source": [
    "\n",
    "# Permet de donner des exemples de réponses attendues dans la conversation.\n",
    "# The business jargon translation example, but with example names for the example messages\n",
    "response = openai.ChatCompletion.create(\n",
    "    model=MODEL,\n",
    "    messages=[\n",
    "        {\"role\": \"system\", \"content\": \"You are a helpful, pattern-following assistant that translates corporate jargon into plain English.\"},\n",
    "        {\"role\": \"system\", \"name\":\"example_user\", \"content\": \"New synergies will help drive top-line growth.\"},\n",
    "        {\"role\": \"system\", \"name\": \"example_assistant\", \"content\": \"Things working well together will increase revenue.\"},\n",
    "        {\"role\": \"system\", \"name\":\"example_user\", \"content\": \"Let's circle back when we have more bandwidth to touch base on opportunities for increased leverage.\"},\n",
    "        {\"role\": \"system\", \"name\": \"example_assistant\", \"content\": \"Let's talk later when we're less busy about how to do better.\"},\n",
    "        {\"role\": \"user\", \"content\": \"This late pivot means we don't have time to boil the ocean for the client deliverable.\"},\n",
    "    ],\n",
    "    temperature=0,\n",
    ")\n",
    "\n",
    "print(response[\"choices\"][0][\"message\"][\"content\"])"
   ]
  },
  {
   "cell_type": "markdown",
   "id": "b40e7e08",
   "metadata": {},
   "source": [
    "## Product analytics dataset"
   ]
  },
  {
   "cell_type": "code",
   "execution_count": 43,
   "id": "f86e6a13",
   "metadata": {},
   "outputs": [],
   "source": [
    "l_cols = [\"user_id\", \"app_version\", \"onboarding_date\", \"product_event_type\",\n",
    "         \"event_time\", \"platform\", \"event_duration\", \"user_segment\", \"age\", \"sex\",\n",
    "         \"referral_source\", \"subscription_status\", \"user_event_type\"]\n",
    "\n",
    "fake = Faker(seed=0)"
   ]
  },
  {
   "cell_type": "code",
   "execution_count": 45,
   "id": "57ca87a8",
   "metadata": {},
   "outputs": [
    {
     "data": {
      "text/plain": [
       "datetime.date(2022, 4, 21)"
      ]
     },
     "execution_count": 45,
     "metadata": {},
     "output_type": "execute_result"
    }
   ],
   "source": [
    "l_dates = \n",
    "fake.date_between(start_date = datetime.datetime(2022,1,1),\n",
    "                 end_date = datetime.datetime(2023,1,1))"
   ]
  },
  {
   "cell_type": "code",
   "execution_count": null,
   "id": "88b5cefe",
   "metadata": {},
   "outputs": [],
   "source": [
    "l_product_events = [\"page_view\", \"form_submission\", \"usage_feature1\", \"usage_feature2\"]\n",
    "l_user_segments = [\"power users\", \"new users\", \"occasional\", \"experienced users\"]"
   ]
  },
  {
   "cell_type": "code",
   "execution_count": 53,
   "id": "683d3194",
   "metadata": {},
   "outputs": [],
   "source": [
    "df = pd.DataFrame()\n",
    "df[\"user_id\"] = np.random.randint(1,20, size= 100)\n",
    "df[\"app_version\"] = np.random.randint(1,3, size= 100)\n",
    "\n",
    "d_onboard_date = pd.DataFrame()\n",
    "\n",
    "d_onboard_date[\"user_id\"] = df[\"user_id\"].unique()\n",
    "l_dates_o = []\n",
    "for _ in range(len(d_onboard_date)):\n",
    "    l_dates_o.append(fake.date_between(start_date = datetime.datetime(2022,1,1),\n",
    "                 end_date = datetime.datetime(2023,1,1)))\n",
    "    \n",
    "    \n",
    "d_onboard_date[\"date_onboarding\"] = l_dates_o\n",
    "d_onboard_date[\"age\"] = np.random.randint(20, 30, size = len(d_onboard_date))\n",
    "d_onboard_date[\"sex\"] = np.randomn.choice([\"MALE\", \"FEMALE\"], size = len(d_onboard_date))\n",
    "\n",
    "\n",
    "\n",
    "\n",
    "df = pd.merge(df, df_onboard, how=\"left\", on =\"user_id\")"
   ]
  },
  {
   "cell_type": "code",
   "execution_count": 54,
   "id": "6c2005c7",
   "metadata": {},
   "outputs": [
    {
     "data": {
      "text/html": [
       "<div>\n",
       "<style scoped>\n",
       "    .dataframe tbody tr th:only-of-type {\n",
       "        vertical-align: middle;\n",
       "    }\n",
       "\n",
       "    .dataframe tbody tr th {\n",
       "        vertical-align: top;\n",
       "    }\n",
       "\n",
       "    .dataframe thead th {\n",
       "        text-align: right;\n",
       "    }\n",
       "</style>\n",
       "<table border=\"1\" class=\"dataframe\">\n",
       "  <thead>\n",
       "    <tr style=\"text-align: right;\">\n",
       "      <th></th>\n",
       "      <th>user_id</th>\n",
       "      <th>app_version</th>\n",
       "      <th>date_onboarding</th>\n",
       "    </tr>\n",
       "  </thead>\n",
       "  <tbody>\n",
       "    <tr>\n",
       "      <th>0</th>\n",
       "      <td>18</td>\n",
       "      <td>1</td>\n",
       "      <td>2022-01-17</td>\n",
       "    </tr>\n",
       "    <tr>\n",
       "      <th>1</th>\n",
       "      <td>12</td>\n",
       "      <td>1</td>\n",
       "      <td>2022-08-06</td>\n",
       "    </tr>\n",
       "    <tr>\n",
       "      <th>2</th>\n",
       "      <td>4</td>\n",
       "      <td>1</td>\n",
       "      <td>2022-10-29</td>\n",
       "    </tr>\n",
       "    <tr>\n",
       "      <th>3</th>\n",
       "      <td>3</td>\n",
       "      <td>1</td>\n",
       "      <td>2022-07-20</td>\n",
       "    </tr>\n",
       "    <tr>\n",
       "      <th>4</th>\n",
       "      <td>5</td>\n",
       "      <td>2</td>\n",
       "      <td>2022-04-10</td>\n",
       "    </tr>\n",
       "    <tr>\n",
       "      <th>...</th>\n",
       "      <td>...</td>\n",
       "      <td>...</td>\n",
       "      <td>...</td>\n",
       "    </tr>\n",
       "    <tr>\n",
       "      <th>95</th>\n",
       "      <td>7</td>\n",
       "      <td>1</td>\n",
       "      <td>2022-10-25</td>\n",
       "    </tr>\n",
       "    <tr>\n",
       "      <th>96</th>\n",
       "      <td>19</td>\n",
       "      <td>2</td>\n",
       "      <td>2022-12-29</td>\n",
       "    </tr>\n",
       "    <tr>\n",
       "      <th>97</th>\n",
       "      <td>16</td>\n",
       "      <td>1</td>\n",
       "      <td>2022-07-08</td>\n",
       "    </tr>\n",
       "    <tr>\n",
       "      <th>98</th>\n",
       "      <td>1</td>\n",
       "      <td>2</td>\n",
       "      <td>2022-05-05</td>\n",
       "    </tr>\n",
       "    <tr>\n",
       "      <th>99</th>\n",
       "      <td>19</td>\n",
       "      <td>2</td>\n",
       "      <td>2022-12-29</td>\n",
       "    </tr>\n",
       "  </tbody>\n",
       "</table>\n",
       "<p>100 rows × 3 columns</p>\n",
       "</div>"
      ],
      "text/plain": [
       "    user_id  app_version date_onboarding\n",
       "0        18            1      2022-01-17\n",
       "1        12            1      2022-08-06\n",
       "2         4            1      2022-10-29\n",
       "3         3            1      2022-07-20\n",
       "4         5            2      2022-04-10\n",
       "..      ...          ...             ...\n",
       "95        7            1      2022-10-25\n",
       "96       19            2      2022-12-29\n",
       "97       16            1      2022-07-08\n",
       "98        1            2      2022-05-05\n",
       "99       19            2      2022-12-29\n",
       "\n",
       "[100 rows x 3 columns]"
      ]
     },
     "execution_count": 54,
     "metadata": {},
     "output_type": "execute_result"
    }
   ],
   "source": [
    "df"
   ]
  },
  {
   "cell_type": "code",
   "execution_count": 59,
   "id": "576c2cf1",
   "metadata": {},
   "outputs": [],
   "source": [
    "response = openai.ChatCompletion.create(\n",
    "    model=MODEL,\n",
    "    messages=[\n",
    "        {\"role\": \"system\", \"content\": \"You are a helpful data product manager assistant\"},\n",
    "        {\"role\": \"user\", \"content\": \"Give me a list of  user segments I can create in my \\\n",
    "        feature usage dataset of my software\"},\n",
    "    ],\n",
    "    temperature=0.4,\n",
    ")"
   ]
  },
  {
   "cell_type": "code",
   "execution_count": null,
   "id": "d281f832",
   "metadata": {},
   "outputs": [],
   "source": []
  },
  {
   "cell_type": "code",
   "execution_count": 60,
   "id": "c3cd74b2",
   "metadata": {},
   "outputs": [
    {
     "name": "stdout",
     "output_type": "stream",
     "text": [
      "Sure, here are some potential user segments you could create based on your feature usage dataset:\n",
      "\n",
      "1. Power users: Users who regularly use advanced features and tools within your software.\n",
      "2. Occasional users: Users who only use your software on a sporadic basis and may only use basic features.\n",
      "3. New users: Users who have recently signed up for your software and are still learning how to use it.\n",
      "4. Experienced users: Users who have been using your software for a long time and are familiar with all of its features.\n",
      "5. Mobile users: Users who primarily access your software through a mobile device.\n",
      "6. Desktop users: Users who primarily access your software through a desktop or laptop computer.\n",
      "7. Free users: Users who are using the free version of your software.\n",
      "8. Paid users: Users who have paid for a premium version of your software.\n",
      "9. Enterprise users: Users who are part of a larger organization and use your software for business purposes.\n",
      "10. Personal users: Users who use your software for personal or non-business related reasons.\n"
     ]
    }
   ],
   "source": [
    "print(response[\"choices\"][0][\"message\"][\"content\"])"
   ]
  },
  {
   "cell_type": "markdown",
   "id": "b8a8c807",
   "metadata": {},
   "source": [
    "## Google Dataset"
   ]
  },
  {
   "cell_type": "code",
   "execution_count": 76,
   "id": "a57c0220",
   "metadata": {},
   "outputs": [],
   "source": [
    "df = pd.read_csv(\"../data/sample_date_reduced.csv\")"
   ]
  },
  {
   "cell_type": "code",
   "execution_count": 93,
   "id": "82d03794",
   "metadata": {},
   "outputs": [
    {
     "data": {
      "text/plain": [
       "Index(['channelGrouping', 'date', 'fullVisitorId', 'sessionId',\n",
       "       'socialEngagementType', 'visitId', 'visitNumber', 'visitStartTime',\n",
       "       'device.browser', 'device.browserSize', 'device.browserVersion',\n",
       "       'device.deviceCategory', 'device.flashVersion', 'device.isMobile',\n",
       "       'device.language', 'device.mobileDeviceBranding',\n",
       "       'device.mobileDeviceInfo', 'device.mobileDeviceMarketingName',\n",
       "       'device.mobileDeviceModel', 'device.mobileInputSelector',\n",
       "       'device.operatingSystem', 'device.operatingSystemVersion',\n",
       "       'device.screenColors', 'device.screenResolution', 'geoNetwork.city',\n",
       "       'geoNetwork.cityId', 'geoNetwork.continent', 'geoNetwork.country',\n",
       "       'geoNetwork.latitude', 'geoNetwork.longitude', 'geoNetwork.metro',\n",
       "       'geoNetwork.networkDomain', 'geoNetwork.networkLocation',\n",
       "       'geoNetwork.region', 'geoNetwork.subContinent', 'totals.bounces',\n",
       "       'totals.hits', 'totals.newVisits', 'totals.pageviews',\n",
       "       'totals.transactionRevenue', 'totals.visits', 'trafficSource.adContent',\n",
       "       'trafficSource.adwordsClickInfo.adNetworkType',\n",
       "       'trafficSource.adwordsClickInfo.criteriaParameters',\n",
       "       'trafficSource.adwordsClickInfo.gclId',\n",
       "       'trafficSource.adwordsClickInfo.isVideoAd',\n",
       "       'trafficSource.adwordsClickInfo.page',\n",
       "       'trafficSource.adwordsClickInfo.slot', 'trafficSource.campaign',\n",
       "       'trafficSource.campaignCode', 'trafficSource.isTrueDirect',\n",
       "       'trafficSource.keyword', 'trafficSource.medium',\n",
       "       'trafficSource.referralPath', 'trafficSource.source'],\n",
       "      dtype='object')"
      ]
     },
     "execution_count": 93,
     "metadata": {},
     "output_type": "execute_result"
    }
   ],
   "source": [
    "df.columns"
   ]
  },
  {
   "cell_type": "code",
   "execution_count": 143,
   "id": "63e172ae",
   "metadata": {},
   "outputs": [],
   "source": [
    "l_cols_keep = [\"channelGrouping\", \"date\", \"fullVisitorId\",\"totals.transactionRevenue\",\n",
    "              \"sessionId\", \"visitNumber\", \"visitStartTime\",\n",
    "              \"device.browser\", \"device.deviceCategory\",\n",
    "              \"geoNetwork.city\", \"totals.bounces\", \"totals.hits\",\n",
    "              \"totals.pageviews\",\n",
    "              \"trafficSource.medium\", \"trafficSource.referralPath\"]\n",
    "\n",
    "df_reduced = df[l_cols_keep]"
   ]
  },
  {
   "cell_type": "code",
   "execution_count": 95,
   "id": "49f7d7c7",
   "metadata": {},
   "outputs": [],
   "source": [
    "df_reduced[\"totals.bounces\"].fillna(0, inplace=True)\n",
    "df_reduced[\"trafficSource.referralPath\"].fillna(\"no_referreal\", inplace=True)"
   ]
  },
  {
   "cell_type": "code",
   "execution_count": 98,
   "id": "ca2e9e4d",
   "metadata": {},
   "outputs": [],
   "source": [
    "df_reduced.to_csv(\"../data/google_website_data.csv\", index=False)"
   ]
  },
  {
   "cell_type": "code",
   "execution_count": 97,
   "id": "a9b10fb8",
   "metadata": {},
   "outputs": [
    {
     "data": {
      "text/html": [
       "<div>\n",
       "<style scoped>\n",
       "    .dataframe tbody tr th:only-of-type {\n",
       "        vertical-align: middle;\n",
       "    }\n",
       "\n",
       "    .dataframe tbody tr th {\n",
       "        vertical-align: top;\n",
       "    }\n",
       "\n",
       "    .dataframe thead th {\n",
       "        text-align: right;\n",
       "    }\n",
       "</style>\n",
       "<table border=\"1\" class=\"dataframe\">\n",
       "  <thead>\n",
       "    <tr style=\"text-align: right;\">\n",
       "      <th></th>\n",
       "      <th>channelGrouping</th>\n",
       "      <th>date</th>\n",
       "      <th>fullVisitorId</th>\n",
       "      <th>totals.transactionRevenue</th>\n",
       "      <th>sessionId</th>\n",
       "      <th>visitNumber</th>\n",
       "      <th>visitStartTime</th>\n",
       "      <th>device.browser</th>\n",
       "      <th>device.deviceCategory</th>\n",
       "      <th>geoNetwork.city</th>\n",
       "      <th>totals.bounces</th>\n",
       "      <th>totals.hits</th>\n",
       "      <th>totals.pageviews</th>\n",
       "      <th>trafficSource.medium</th>\n",
       "      <th>trafficSource.referralPath</th>\n",
       "    </tr>\n",
       "  </thead>\n",
       "  <tbody>\n",
       "    <tr>\n",
       "      <th>0</th>\n",
       "      <td>Organic Search</td>\n",
       "      <td>20170126</td>\n",
       "      <td>8717947855351915792</td>\n",
       "      <td>NaN</td>\n",
       "      <td>8717947855351915792_1485451666</td>\n",
       "      <td>1</td>\n",
       "      <td>1485451666</td>\n",
       "      <td>Chrome</td>\n",
       "      <td>desktop</td>\n",
       "      <td>not available in demo dataset</td>\n",
       "      <td>0.0</td>\n",
       "      <td>12</td>\n",
       "      <td>10</td>\n",
       "      <td>organic</td>\n",
       "      <td>no_referreal</td>\n",
       "    </tr>\n",
       "  </tbody>\n",
       "</table>\n",
       "</div>"
      ],
      "text/plain": [
       "  channelGrouping      date        fullVisitorId  totals.transactionRevenue  \\\n",
       "0  Organic Search  20170126  8717947855351915792                        NaN   \n",
       "\n",
       "                        sessionId  visitNumber  visitStartTime device.browser  \\\n",
       "0  8717947855351915792_1485451666            1      1485451666         Chrome   \n",
       "\n",
       "  device.deviceCategory                geoNetwork.city  totals.bounces  \\\n",
       "0               desktop  not available in demo dataset             0.0   \n",
       "\n",
       "   totals.hits  totals.pageviews trafficSource.medium  \\\n",
       "0           12                10              organic   \n",
       "\n",
       "  trafficSource.referralPath  \n",
       "0               no_referreal  "
      ]
     },
     "execution_count": 97,
     "metadata": {},
     "output_type": "execute_result"
    }
   ],
   "source": [
    "df_reduced.head(1)"
   ]
  },
  {
   "cell_type": "code",
   "execution_count": 144,
   "id": "84945060",
   "metadata": {},
   "outputs": [],
   "source": [
    "df_reduced[\"date\"] = pd.to_datetime(df_reduced[\"date\"], format=\"%Y%m%d\")"
   ]
  },
  {
   "cell_type": "code",
   "execution_count": 145,
   "id": "715b2e26",
   "metadata": {},
   "outputs": [
    {
     "data": {
      "text/html": [
       "<div>\n",
       "<style scoped>\n",
       "    .dataframe tbody tr th:only-of-type {\n",
       "        vertical-align: middle;\n",
       "    }\n",
       "\n",
       "    .dataframe tbody tr th {\n",
       "        vertical-align: top;\n",
       "    }\n",
       "\n",
       "    .dataframe thead th {\n",
       "        text-align: right;\n",
       "    }\n",
       "</style>\n",
       "<table border=\"1\" class=\"dataframe\">\n",
       "  <thead>\n",
       "    <tr style=\"text-align: right;\">\n",
       "      <th></th>\n",
       "      <th>channelGrouping</th>\n",
       "      <th>date</th>\n",
       "      <th>fullVisitorId</th>\n",
       "      <th>totals.transactionRevenue</th>\n",
       "      <th>sessionId</th>\n",
       "      <th>visitNumber</th>\n",
       "      <th>visitStartTime</th>\n",
       "      <th>device.browser</th>\n",
       "      <th>device.deviceCategory</th>\n",
       "      <th>geoNetwork.city</th>\n",
       "      <th>totals.bounces</th>\n",
       "      <th>totals.hits</th>\n",
       "      <th>totals.pageviews</th>\n",
       "      <th>trafficSource.medium</th>\n",
       "      <th>trafficSource.referralPath</th>\n",
       "    </tr>\n",
       "  </thead>\n",
       "  <tbody>\n",
       "    <tr>\n",
       "      <th>0</th>\n",
       "      <td>Organic Search</td>\n",
       "      <td>2017-01-26</td>\n",
       "      <td>8717947855351915792</td>\n",
       "      <td>NaN</td>\n",
       "      <td>8717947855351915792_1485451666</td>\n",
       "      <td>1</td>\n",
       "      <td>1485451666</td>\n",
       "      <td>Chrome</td>\n",
       "      <td>desktop</td>\n",
       "      <td>not available in demo dataset</td>\n",
       "      <td>NaN</td>\n",
       "      <td>12</td>\n",
       "      <td>10</td>\n",
       "      <td>organic</td>\n",
       "      <td>NaN</td>\n",
       "    </tr>\n",
       "    <tr>\n",
       "      <th>1</th>\n",
       "      <td>Organic Search</td>\n",
       "      <td>2017-03-12</td>\n",
       "      <td>186969402159863462</td>\n",
       "      <td>NaN</td>\n",
       "      <td>0186969402159863462_1489329703</td>\n",
       "      <td>1</td>\n",
       "      <td>1489329703</td>\n",
       "      <td>Chrome</td>\n",
       "      <td>desktop</td>\n",
       "      <td>not available in demo dataset</td>\n",
       "      <td>1.0</td>\n",
       "      <td>1</td>\n",
       "      <td>1</td>\n",
       "      <td>organic</td>\n",
       "      <td>NaN</td>\n",
       "    </tr>\n",
       "    <tr>\n",
       "      <th>2</th>\n",
       "      <td>Social</td>\n",
       "      <td>2017-03-12</td>\n",
       "      <td>8751643198858600189</td>\n",
       "      <td>NaN</td>\n",
       "      <td>8751643198858600189_1489364717</td>\n",
       "      <td>1</td>\n",
       "      <td>1489364717</td>\n",
       "      <td>Safari (in-app)</td>\n",
       "      <td>mobile</td>\n",
       "      <td>not available in demo dataset</td>\n",
       "      <td>NaN</td>\n",
       "      <td>5</td>\n",
       "      <td>5</td>\n",
       "      <td>referral</td>\n",
       "      <td>/yt/about/</td>\n",
       "    </tr>\n",
       "    <tr>\n",
       "      <th>3</th>\n",
       "      <td>Social</td>\n",
       "      <td>2016-11-18</td>\n",
       "      <td>4659677781302064733</td>\n",
       "      <td>NaN</td>\n",
       "      <td>4659677781302064733_1479487507</td>\n",
       "      <td>1</td>\n",
       "      <td>1479487507</td>\n",
       "      <td>Chrome</td>\n",
       "      <td>desktop</td>\n",
       "      <td>Ho Chi Minh City</td>\n",
       "      <td>1.0</td>\n",
       "      <td>1</td>\n",
       "      <td>1</td>\n",
       "      <td>referral</td>\n",
       "      <td>/yt/about/vi/</td>\n",
       "    </tr>\n",
       "    <tr>\n",
       "      <th>4</th>\n",
       "      <td>Direct</td>\n",
       "      <td>2016-11-10</td>\n",
       "      <td>9312348339658802778</td>\n",
       "      <td>NaN</td>\n",
       "      <td>9312348339658802778_1478813349</td>\n",
       "      <td>2</td>\n",
       "      <td>1478813349</td>\n",
       "      <td>Chrome</td>\n",
       "      <td>desktop</td>\n",
       "      <td>not available in demo dataset</td>\n",
       "      <td>1.0</td>\n",
       "      <td>1</td>\n",
       "      <td>1</td>\n",
       "      <td>(none)</td>\n",
       "      <td>NaN</td>\n",
       "    </tr>\n",
       "    <tr>\n",
       "      <th>...</th>\n",
       "      <td>...</td>\n",
       "      <td>...</td>\n",
       "      <td>...</td>\n",
       "      <td>...</td>\n",
       "      <td>...</td>\n",
       "      <td>...</td>\n",
       "      <td>...</td>\n",
       "      <td>...</td>\n",
       "      <td>...</td>\n",
       "      <td>...</td>\n",
       "      <td>...</td>\n",
       "      <td>...</td>\n",
       "      <td>...</td>\n",
       "      <td>...</td>\n",
       "      <td>...</td>\n",
       "    </tr>\n",
       "    <tr>\n",
       "      <th>251</th>\n",
       "      <td>Social</td>\n",
       "      <td>2016-09-08</td>\n",
       "      <td>6131905045836291822</td>\n",
       "      <td>NaN</td>\n",
       "      <td>6131905045836291822_1473340498</td>\n",
       "      <td>1</td>\n",
       "      <td>1473340498</td>\n",
       "      <td>Safari</td>\n",
       "      <td>desktop</td>\n",
       "      <td>not available in demo dataset</td>\n",
       "      <td>1.0</td>\n",
       "      <td>1</td>\n",
       "      <td>1</td>\n",
       "      <td>referral</td>\n",
       "      <td>/yt/about/</td>\n",
       "    </tr>\n",
       "    <tr>\n",
       "      <th>252</th>\n",
       "      <td>Social</td>\n",
       "      <td>2016-10-05</td>\n",
       "      <td>6673583350920317221</td>\n",
       "      <td>NaN</td>\n",
       "      <td>6673583350920317221_1475735400</td>\n",
       "      <td>5</td>\n",
       "      <td>1475735400</td>\n",
       "      <td>Chrome</td>\n",
       "      <td>desktop</td>\n",
       "      <td>Dubai</td>\n",
       "      <td>1.0</td>\n",
       "      <td>1</td>\n",
       "      <td>1</td>\n",
       "      <td>referral</td>\n",
       "      <td>/yt/about/ar/</td>\n",
       "    </tr>\n",
       "    <tr>\n",
       "      <th>253</th>\n",
       "      <td>Direct</td>\n",
       "      <td>2016-12-29</td>\n",
       "      <td>3209725923026135905</td>\n",
       "      <td>NaN</td>\n",
       "      <td>3209725923026135905_1483059914</td>\n",
       "      <td>1</td>\n",
       "      <td>1483059914</td>\n",
       "      <td>Chrome</td>\n",
       "      <td>desktop</td>\n",
       "      <td>not available in demo dataset</td>\n",
       "      <td>1.0</td>\n",
       "      <td>1</td>\n",
       "      <td>1</td>\n",
       "      <td>(none)</td>\n",
       "      <td>NaN</td>\n",
       "    </tr>\n",
       "    <tr>\n",
       "      <th>254</th>\n",
       "      <td>Direct</td>\n",
       "      <td>2017-05-31</td>\n",
       "      <td>9567474007949365633</td>\n",
       "      <td>NaN</td>\n",
       "      <td>9567474007949365633_1496274875</td>\n",
       "      <td>1</td>\n",
       "      <td>1496274875</td>\n",
       "      <td>Chrome</td>\n",
       "      <td>desktop</td>\n",
       "      <td>Mountain View</td>\n",
       "      <td>1.0</td>\n",
       "      <td>1</td>\n",
       "      <td>1</td>\n",
       "      <td>(none)</td>\n",
       "      <td>NaN</td>\n",
       "    </tr>\n",
       "    <tr>\n",
       "      <th>255</th>\n",
       "      <td>Organic Search</td>\n",
       "      <td>2017-01-04</td>\n",
       "      <td>1264057991626714994</td>\n",
       "      <td>NaN</td>\n",
       "      <td>1264057991626714994_1483525348</td>\n",
       "      <td>1</td>\n",
       "      <td>1483525348</td>\n",
       "      <td>Chrome</td>\n",
       "      <td>desktop</td>\n",
       "      <td>London</td>\n",
       "      <td>1.0</td>\n",
       "      <td>1</td>\n",
       "      <td>1</td>\n",
       "      <td>organic</td>\n",
       "      <td>NaN</td>\n",
       "    </tr>\n",
       "  </tbody>\n",
       "</table>\n",
       "<p>256 rows × 15 columns</p>\n",
       "</div>"
      ],
      "text/plain": [
       "    channelGrouping       date        fullVisitorId  \\\n",
       "0    Organic Search 2017-01-26  8717947855351915792   \n",
       "1    Organic Search 2017-03-12   186969402159863462   \n",
       "2            Social 2017-03-12  8751643198858600189   \n",
       "3            Social 2016-11-18  4659677781302064733   \n",
       "4            Direct 2016-11-10  9312348339658802778   \n",
       "..              ...        ...                  ...   \n",
       "251          Social 2016-09-08  6131905045836291822   \n",
       "252          Social 2016-10-05  6673583350920317221   \n",
       "253          Direct 2016-12-29  3209725923026135905   \n",
       "254          Direct 2017-05-31  9567474007949365633   \n",
       "255  Organic Search 2017-01-04  1264057991626714994   \n",
       "\n",
       "     totals.transactionRevenue                       sessionId  visitNumber  \\\n",
       "0                          NaN  8717947855351915792_1485451666            1   \n",
       "1                          NaN  0186969402159863462_1489329703            1   \n",
       "2                          NaN  8751643198858600189_1489364717            1   \n",
       "3                          NaN  4659677781302064733_1479487507            1   \n",
       "4                          NaN  9312348339658802778_1478813349            2   \n",
       "..                         ...                             ...          ...   \n",
       "251                        NaN  6131905045836291822_1473340498            1   \n",
       "252                        NaN  6673583350920317221_1475735400            5   \n",
       "253                        NaN  3209725923026135905_1483059914            1   \n",
       "254                        NaN  9567474007949365633_1496274875            1   \n",
       "255                        NaN  1264057991626714994_1483525348            1   \n",
       "\n",
       "     visitStartTime   device.browser device.deviceCategory  \\\n",
       "0        1485451666           Chrome               desktop   \n",
       "1        1489329703           Chrome               desktop   \n",
       "2        1489364717  Safari (in-app)                mobile   \n",
       "3        1479487507           Chrome               desktop   \n",
       "4        1478813349           Chrome               desktop   \n",
       "..              ...              ...                   ...   \n",
       "251      1473340498           Safari               desktop   \n",
       "252      1475735400           Chrome               desktop   \n",
       "253      1483059914           Chrome               desktop   \n",
       "254      1496274875           Chrome               desktop   \n",
       "255      1483525348           Chrome               desktop   \n",
       "\n",
       "                   geoNetwork.city  totals.bounces  totals.hits  \\\n",
       "0    not available in demo dataset             NaN           12   \n",
       "1    not available in demo dataset             1.0            1   \n",
       "2    not available in demo dataset             NaN            5   \n",
       "3                 Ho Chi Minh City             1.0            1   \n",
       "4    not available in demo dataset             1.0            1   \n",
       "..                             ...             ...          ...   \n",
       "251  not available in demo dataset             1.0            1   \n",
       "252                          Dubai             1.0            1   \n",
       "253  not available in demo dataset             1.0            1   \n",
       "254                  Mountain View             1.0            1   \n",
       "255                         London             1.0            1   \n",
       "\n",
       "     totals.pageviews trafficSource.medium trafficSource.referralPath  \n",
       "0                  10              organic                        NaN  \n",
       "1                   1              organic                        NaN  \n",
       "2                   5             referral                 /yt/about/  \n",
       "3                   1             referral              /yt/about/vi/  \n",
       "4                   1               (none)                        NaN  \n",
       "..                ...                  ...                        ...  \n",
       "251                 1             referral                 /yt/about/  \n",
       "252                 1             referral              /yt/about/ar/  \n",
       "253                 1               (none)                        NaN  \n",
       "254                 1               (none)                        NaN  \n",
       "255                 1              organic                        NaN  \n",
       "\n",
       "[256 rows x 15 columns]"
      ]
     },
     "execution_count": 145,
     "metadata": {},
     "output_type": "execute_result"
    }
   ],
   "source": [
    "df_reduced"
   ]
  },
  {
   "cell_type": "code",
   "execution_count": 146,
   "id": "8277ad9e",
   "metadata": {},
   "outputs": [
    {
     "data": {
      "text/plain": [
       "Text(0.5, 1.0, 'Mobile hits by date')"
      ]
     },
     "execution_count": 146,
     "metadata": {},
     "output_type": "execute_result"
    },
    {
     "data": {
      "image/png": "[encoded data removed]",
      "text/plain": [
       "<Figure size 432x288 with 1 Axes>"
      ]
     },
     "metadata": {
      "needs_background": "light"
     },
     "output_type": "display_data"
    }
   ],
   "source": [
    "# Filter the data to only include rows where device.deviceCategory is 'mobile'\n",
    "mobile_data = df_reduced[df_reduced['device.deviceCategory'] == 'mobile']\n",
    "\n",
    "# Group the data by date and sum the totals.hits column\n",
    "mobile_hits_by_date = mobile_data.groupby('date')['totals.hits'].sum().reset_index()\n",
    "\n",
    "# Create a line chart of mobile hits by date\n",
    "fig, ax = plt.subplots()\n",
    "ax.plot(mobile_hits_by_date['date'], mobile_hits_by_date['totals.hits'])\n",
    "ax.set_xlabel('Date')\n",
    "ax.set_ylabel('Total hits')\n",
    "ax.set_title('Mobile hits by date')"
   ]
  },
  {
   "cell_type": "code",
   "execution_count": 120,
   "id": "54577596",
   "metadata": {},
   "outputs": [],
   "source": [
    "response = openai.ChatCompletion.create(\n",
    "    model=MODEL,\n",
    "    messages=[\n",
    "        {\"role\": \"system\", \"content\": \"You are a smart data analyst assistant which is expert in \\\n",
    "        data vizualisation with streamlit.\"},\n",
    "        {\"role\": \"system\", \"name\":\"example_user\", \"content\": \n",
    "         \"Can you create a graph of totals.pageviews depending of the time\"},\n",
    "        {\"role\": \"system\", \"name\":\"example_assistant\", \"content\":\n",
    "         \"# Graph creation \\\n",
    "                fig, ax = plt.subplots() \\\n",
    "                ax.plot(df['time'], df['totals.pageviews']) \\\n",
    "                ax.set_xlabel('time') \\\n",
    "                ax.set_ylabel('totals.pageviews') \\\n",
    "                ax.set_title('Pageviews over time') \\\n",
    "                # Show the chart in Streamlit \\\n",
    "                st.pyplot(fig)\"},\n",
    "        \n",
    "        \n",
    "        {\"role\": \"system\", \"name\":\"example_user\", \"content\": \n",
    "        \"Can you create a graph of totals.pageviews depending of the device.browser\"},\n",
    "        {\"role\": \"system\", \"name\": \"example_assistant\", \"content\": \n",
    "         \"browser_data = df.groupby('device.browser')['totals.pageviews'].sum().reset_index() \\\n",
    "         browser_data = browser_data.sort_values('totals.pageviews', ascending=False) \\\n",
    "                # Graph creation \\\n",
    "                fig, ax = plt.subplots() \\\n",
    "                ax.bar(browser_data['device.browser'], browser_data['totals.pageviews']) \\\n",
    "                ax.set_xlabel('device.browser') \\\n",
    "                ax.set_ylabel('totals.pageviews') \\\n",
    "                ax.set_title('Pageviews in function of the device.brower') \\\n",
    "                # Show the chart in Streamlit \\\n",
    "                st.pyplot(fig)\"},\n",
    "        {\"role\": \"user\", \"content\": \n",
    "         \"Can you create a graph of totals.hits depending of the date for device.deviceCategory equal to mobile\"},\n",
    "    ],\n",
    "    temperature=0.2,\n",
    ")"
   ]
  },
  {
   "cell_type": "code",
   "execution_count": 122,
   "id": "c21d0d84",
   "metadata": {},
   "outputs": [
    {
     "name": "stdout",
     "output_type": "stream",
     "text": [
      "Certainly! Here's an example code snippet that should do what you're asking for:\n",
      "\n",
      "```\n",
      "# Filter the data to only include rows where device.deviceCategory is 'mobile'\n",
      "mobile_data = df[df['device.deviceCategory'] == 'mobile']\n",
      "\n",
      "# Group the data by date and sum the totals.hits column\n",
      "mobile_hits_by_date = mobile_data.groupby('date')['totals.hits'].sum().reset_index()\n",
      "\n",
      "# Create a line chart of mobile hits by date\n",
      "fig, ax = plt.subplots()\n",
      "ax.plot(mobile_hits_by_date['date'], mobile_hits_by_date['totals.hits'])\n",
      "ax.set_xlabel('Date')\n",
      "ax.set_ylabel('Total hits')\n",
      "ax.set_title('Mobile hits by date')\n",
      "st.pyplot(fig)\n",
      "```\n",
      "\n",
      "This code should create a line chart showing the total hits for mobile devices over time. Let me know if you have any questions or if there's anything else I can help you with!\n"
     ]
    }
   ],
   "source": [
    "text = response[\"choices\"][0][\"message\"][\"content\"]\n",
    "print(text)"
   ]
  },
  {
   "cell_type": "code",
   "execution_count": 133,
   "id": "b884605f",
   "metadata": {},
   "outputs": [
    {
     "name": "stdout",
     "output_type": "stream",
     "text": [
      "\n",
      "# Filter the data to only include rows where device.deviceCategory is 'mobile'\n",
      "mobile_data = df[df['device.deviceCategory'] == 'mobile']\n",
      "\n",
      "# Group the data by date and sum the totals.hits column\n",
      "mobile_hits_by_date = mobile_data.groupby('date')['totals.hits'].sum().reset_index()\n",
      "\n",
      "# Create a line chart of mobile hits by date\n",
      "fig, ax = plt.subplots()\n",
      "ax.plot(mobile_hits_by_date['date'], mobile_hits_by_date['totals.hits'])\n",
      "ax.set_xlabel('Date')\n",
      "ax.set_ylabel('Total hits')\n",
      "ax.set_title('Mobile hits by date')\n",
      "st.pyplot(fig)\n",
      "\n"
     ]
    }
   ],
   "source": [
    "print(text.split(\"```\")[1])"
   ]
  }
 ],
 "metadata": {
  "kernelspec": {
   "display_name": "job_scrap_k",
   "language": "python",
   "name": "job_scrap_k"
  },
  "language_info": {
   "codemirror_mode": {
    "name": "ipython",
    "version": 3
   },
   "file_extension": ".py",
   "mimetype": "text/x-python",
   "name": "python",
   "nbconvert_exporter": "python",
   "pygments_lexer": "ipython3",
   "version": "3.9.13"
  },
  "toc": {
   "base_numbering": 1,
   "nav_menu": {},
   "number_sections": true,
   "sideBar": true,
   "skip_h1_title": false,
   "title_cell": "Table of Contents",
   "title_sidebar": "Contents",
   "toc_cell": false,
   "toc_position": {},
   "toc_section_display": true,
   "toc_window_display": false
  },
  "varInspector": {
   "cols": {
    "lenName": 16,
    "lenType": 16,
    "lenVar": 40
   },
   "kernels_config": {
    "python": {
     "delete_cmd_postfix": "",
     "delete_cmd_prefix": "del ",
     "library": "var_list.py",
     "varRefreshCmd": "print(var_dic_list())"
    },
    "r": {
     "delete_cmd_postfix": ") ",
     "delete_cmd_prefix": "rm(",
     "library": "var_list.r",
     "varRefreshCmd": "cat(var_dic_list()) "
    }
   },
   "types_to_exclude": [
    "module",
    "function",
    "builtin_function_or_method",
    "instance",
    "_Feature"
   ],
   "window_display": false
  }
 },
 "nbformat": 4,
 "nbformat_minor": 5
}
